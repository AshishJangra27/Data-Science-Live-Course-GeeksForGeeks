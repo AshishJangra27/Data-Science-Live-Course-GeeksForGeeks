{
 "cells": [
  {
   "cell_type": "code",
   "execution_count": 1,
   "id": "78a94bcf",
   "metadata": {},
   "outputs": [],
   "source": [
    "import json"
   ]
  },
  {
   "cell_type": "code",
   "execution_count": 2,
   "id": "c69f453e",
   "metadata": {},
   "outputs": [],
   "source": [
    "fd = open('Record.json','r')\n",
    "js = fd.read()\n",
    "fd.close()"
   ]
  },
  {
   "cell_type": "code",
   "execution_count": 8,
   "id": "167cc340",
   "metadata": {},
   "outputs": [],
   "source": [
    "js = json.loads(js)"
   ]
  },
  {
   "cell_type": "code",
   "execution_count": 16,
   "id": "1c1676cd",
   "metadata": {},
   "outputs": [
    {
     "name": "stdout",
     "output_type": "stream",
     "text": [
      "['1005', 650, 'Blueberry Cake', 3]\n",
      "['1004', 550, 'Chocolate Cake', 6]\n",
      "['1003', 2, 'Candy', 500]\n",
      "['1002', 20, 'Bar-One', 0]\n",
      "['1001', 10, '5 Star', 188]\n"
     ]
    }
   ],
   "source": [
    "for i in js.keys():\n",
    "    print([i, js[i]['Price'],js[i]['Name'],js[i]['Qn']])"
   ]
  },
  {
   "cell_type": "code",
   "execution_count": 11,
   "id": "a4c7accd",
   "metadata": {},
   "outputs": [
    {
     "data": {
      "text/plain": [
       "{'1005': {'Price': 650, 'Name': 'Blueberry Cake', 'Qn': 3},\n",
       " '1004': {'Price': 550, 'Name': 'Chocolate Cake', 'Qn': 6},\n",
       " '1003': {'Price': 2, 'Name': 'Candy', 'Qn': 500},\n",
       " '1002': {'Price': 20, 'Name': 'Bar-One', 'Qn': 0},\n",
       " '1001': {'Price': 10, 'Name': '5 Star', 'Qn': 188}}"
      ]
     },
     "execution_count": 11,
     "metadata": {},
     "output_type": "execute_result"
    }
   ],
   "source": [
    "js"
   ]
  },
  {
   "cell_type": "code",
   "execution_count": 23,
   "id": "14be02f0",
   "metadata": {},
   "outputs": [],
   "source": [
    "lst = [['Product ID', 'Price', 'Name', 'Quantity']]\n",
    "\n",
    "\n",
    "for i in js.keys():\n",
    "    lst.append([i, str(js[i]['Price']),js[i]['Name'],str(js[i]['Qn'])])"
   ]
  },
  {
   "cell_type": "code",
   "execution_count": 24,
   "id": "953536fd",
   "metadata": {},
   "outputs": [
    {
     "data": {
      "text/plain": [
       "[['Product ID', 'Price', 'Name', 'Quantity'],\n",
       " ['1005', '650', 'Blueberry Cake', '3'],\n",
       " ['1004', '550', 'Chocolate Cake', '6'],\n",
       " ['1003', '2', 'Candy', '500'],\n",
       " ['1002', '20', 'Bar-One', '0'],\n",
       " ['1001', '10', '5 Star', '188']]"
      ]
     },
     "execution_count": 24,
     "metadata": {},
     "output_type": "execute_result"
    }
   ],
   "source": [
    "lst"
   ]
  },
  {
   "cell_type": "code",
   "execution_count": 30,
   "id": "9f00b27a",
   "metadata": {},
   "outputs": [
    {
     "name": "stdout",
     "output_type": "stream",
     "text": [
      "Product ID,Price,Name,Quantity\n",
      "1005,650,Blueberry Cake,3\n",
      "1004,550,Chocolate Cake,6\n",
      "1003,2,Candy,500\n",
      "1002,20,Bar-One,0\n",
      "1001,10,5 Star,188\n"
     ]
    }
   ],
   "source": [
    "for i in lst:\n",
    "    print(','.join(i))"
   ]
  },
  {
   "cell_type": "code",
   "execution_count": 33,
   "id": "d02b373e",
   "metadata": {},
   "outputs": [],
   "source": [
    "fd = open('data.txt','a+')\n",
    "\n",
    "for i in lst:\n",
    "    fd.write(','.join(i) + '\\n')\n",
    "    \n",
    "fd.close()"
   ]
  }
 ],
 "metadata": {
  "kernelspec": {
   "display_name": "Python 3",
   "language": "python",
   "name": "python3"
  },
  "language_info": {
   "codemirror_mode": {
    "name": "ipython",
    "version": 3
   },
   "file_extension": ".py",
   "mimetype": "text/x-python",
   "name": "python",
   "nbconvert_exporter": "python",
   "pygments_lexer": "ipython3",
   "version": "3.8.8"
  }
 },
 "nbformat": 4,
 "nbformat_minor": 5
}
