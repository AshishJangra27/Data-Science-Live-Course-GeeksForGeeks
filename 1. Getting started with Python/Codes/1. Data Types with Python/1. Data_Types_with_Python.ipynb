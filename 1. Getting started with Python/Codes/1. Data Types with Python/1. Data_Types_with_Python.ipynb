{
  "nbformat": 4,
  "nbformat_minor": 0,
  "metadata": {
    "colab": {
      "name": "Data Types with Python",
      "provenance": []
    },
    "kernelspec": {
      "name": "python3",
      "display_name": "Python 3"
    },
    "language_info": {
      "name": "python"
    }
  },
  "cells": [
    {
      "cell_type": "markdown",
      "source": [
        "Type() function"
      ],
      "metadata": {
        "id": "QJY7h3fjth8k"
      }
    },
    {
      "cell_type": "code",
      "execution_count": 1,
      "metadata": {
        "colab": {
          "base_uri": "https://localhost:8080/"
        },
        "id": "fMTbY5kis_LA",
        "outputId": "0cd30a75-ddb1-4313-b89e-b64c7249bc35"
      },
      "outputs": [
        {
          "output_type": "stream",
          "name": "stdout",
          "text": [
            "Type of a:  <class 'int'>\n",
            "\n",
            "Type of b:  <class 'float'>\n",
            "\n",
            "Type of c:  <class 'complex'>\n"
          ]
        }
      ],
      "source": [
        "# Python program to \n",
        "# demonstrate numeric value\n",
        "  \n",
        "a = 5\n",
        "print(\"Type of a: \", type(a))\n",
        "  \n",
        "b = 5.0\n",
        "print(\"\\nType of b: \", type(b))\n",
        "  \n",
        "c = 2 + 4j\n",
        "print(\"\\nType of c: \", type(c))\n"
      ]
    },
    {
      "cell_type": "markdown",
      "source": [
        "Strings"
      ],
      "metadata": {
        "id": "ck-qJRP8tp5e"
      }
    },
    {
      "cell_type": "code",
      "source": [
        "# Python Program for Creation of String \n",
        "    \n",
        "# Creating a String  with single Quotes \n",
        "String1 = 'Welcome to the Geeks World'\n",
        "print(\"String with the use of Single Quotes: \") \n",
        "print(String1) \n",
        "    \n",
        "\n",
        "# Creating a String with double Quotes \n",
        "String1 = \"I'm a Geek\"\n",
        "print(\"\\nString with the use of Double Quotes: \") \n",
        "print(String1) \n",
        "print(type(String1))\n",
        "    \n",
        "# Creating a String with triple Quotes \n",
        "String1 = '''I'm a Geek and I live in a world of \"Geeks\"'''\n",
        "print(\"\\nString with the use of Triple Quotes: \") \n",
        "print(String1) \n",
        "print(type(String1))\n",
        "  \n",
        "# Creating String with triple Quotes allows multiple lines \n",
        "String1 = '''Geeks \n",
        "            For \n",
        "            Life'''\n",
        "print(\"\\nCreating a multiline String: \") \n",
        "print(String1)\n"
      ],
      "metadata": {
        "colab": {
          "base_uri": "https://localhost:8080/"
        },
        "id": "cyBGpRc9thX7",
        "outputId": "f6951c86-42b4-45cd-8139-fc28fecee6d5"
      },
      "execution_count": null,
      "outputs": [
        {
          "output_type": "stream",
          "name": "stdout",
          "text": [
            "String with the use of Single Quotes: \n",
            "Welcome to the Geeks World\n",
            "\n",
            "String with the use of Double Quotes: \n",
            "I'm a Geek\n",
            "<class 'str'>\n",
            "\n",
            "String with the use of Triple Quotes: \n",
            "I'm a Geek and I live in a world of \"Geeks\"\n",
            "<class 'str'>\n",
            "\n",
            "Creating a multiline String: \n",
            "Geeks \n",
            "            For \n",
            "            Life\n"
          ]
        }
      ]
    },
    {
      "cell_type": "markdown",
      "source": [
        "Boolean"
      ],
      "metadata": {
        "id": "GNsWOfo-t2fv"
      }
    },
    {
      "cell_type": "code",
      "source": [
        "# Python program to demonstrate boolean type\n",
        "  \n",
        "print(type(True))\n",
        "print(type(False))\n",
        "  \n",
        "print(type(true))\n"
      ],
      "metadata": {
        "colab": {
          "base_uri": "https://localhost:8080/",
          "height": 234
        },
        "id": "v1hdI687trPm",
        "outputId": "abda5730-3325-4df9-b91a-ec35651c9c9f"
      },
      "execution_count": null,
      "outputs": [
        {
          "output_type": "stream",
          "name": "stdout",
          "text": [
            "<class 'bool'>\n",
            "<class 'bool'>\n"
          ]
        },
        {
          "output_type": "error",
          "ename": "NameError",
          "evalue": "ignored",
          "traceback": [
            "\u001b[0;31m---------------------------------------------------------------------------\u001b[0m",
            "\u001b[0;31mNameError\u001b[0m                                 Traceback (most recent call last)",
            "\u001b[0;32m<ipython-input-3-a08ccb033d36>\u001b[0m in \u001b[0;36m<module>\u001b[0;34m()\u001b[0m\n\u001b[1;32m      4\u001b[0m \u001b[0mprint\u001b[0m\u001b[0;34m(\u001b[0m\u001b[0mtype\u001b[0m\u001b[0;34m(\u001b[0m\u001b[0;32mFalse\u001b[0m\u001b[0;34m)\u001b[0m\u001b[0;34m)\u001b[0m\u001b[0;34m\u001b[0m\u001b[0;34m\u001b[0m\u001b[0m\n\u001b[1;32m      5\u001b[0m \u001b[0;34m\u001b[0m\u001b[0m\n\u001b[0;32m----> 6\u001b[0;31m \u001b[0mprint\u001b[0m\u001b[0;34m(\u001b[0m\u001b[0mtype\u001b[0m\u001b[0;34m(\u001b[0m\u001b[0mtrue\u001b[0m\u001b[0;34m)\u001b[0m\u001b[0;34m)\u001b[0m\u001b[0;34m\u001b[0m\u001b[0;34m\u001b[0m\u001b[0m\n\u001b[0m",
            "\u001b[0;31mNameError\u001b[0m: name 'true' is not defined"
          ]
        }
      ]
    },
    {
      "cell_type": "code",
      "source": [
        ""
      ],
      "metadata": {
        "id": "bAc0ed_Kt4kC"
      },
      "execution_count": null,
      "outputs": []
    }
  ]
}