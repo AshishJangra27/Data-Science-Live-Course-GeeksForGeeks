{
  "nbformat": 4,
  "nbformat_minor": 0,
  "metadata": {
    "colab": {
      "name": "Linear Regression",
      "provenance": []
    },
    "kernelspec": {
      "name": "python3",
      "display_name": "Python 3"
    },
    "language_info": {
      "name": "python"
    }
  },
  "cells": [
    {
      "cell_type": "code",
      "execution_count": 1,
      "metadata": {
        "id": "o4fhA2myVVHW"
      },
      "outputs": [],
      "source": [
        "import numpy as np\n",
        "import pandas as pd\n",
        "import warnings\n",
        "warnings.simplefilter(action='ignore', category=FutureWarning)\n",
        "import matplotlib.pyplot as plt"
      ]
    },
    {
      "cell_type": "code",
      "source": [
        "dfx = pd.read_csv('lregre.csv')\n",
        "x = dfx.values[:,0]\n",
        "y = dfx.values[:,1]\n",
        "x = x.reshape(-1,1)\n",
        "y = y.reshape(-1,1)"
      ],
      "metadata": {
        "id": "g0omlVrcWope"
      },
      "execution_count": null,
      "outputs": []
    },
    {
      "cell_type": "code",
      "source": [
        "X = (x - x.mean())/x.std()\n",
        "\n",
        "Y = y\n",
        "\n",
        "plt.scatter(X,Y,c=Y)\n",
        "plt.show()\n",
        "\n",
        "#This step normalises the data "
      ],
      "metadata": {
        "colab": {
          "base_uri": "https://localhost:8080/",
          "height": 265
        },
        "id": "DW4BYDYIWqDr",
        "outputId": "39fb7602-fc1c-4172-a3d4-54a903401a98"
      },
      "execution_count": null,
      "outputs": [
        {
          "output_type": "display_data",
          "data": {
            "image/png": "[encoded data removed]",
            "text/plain": [
              "<Figure size 432x288 with 1 Axes>"
            ]
          },
          "metadata": {
            "needs_background": "light"
          }
        }
      ]
    },
    {
      "cell_type": "code",
      "source": [
        "def h_theta(x, theta):\n",
        "    return theta[0] + theta[1]*x\n",
        "\n",
        "def error(X,Y, theta):\n",
        "    m = X.shape[0]\n",
        "    error = 0\n",
        "    for i in range(m):\n",
        "        hx = h_theta(X[i], theta)\n",
        "        error += (hx - Y[i])**2\n",
        "    \n",
        "    return error\n",
        "\n",
        "def gradient(X, Y, theta):\n",
        "    \n",
        "    grad = np.zeros((2,))\n",
        "    m = X.shape[0]\n",
        "    \n",
        "    for i in range(m):\n",
        "        hx = h_theta(X[i],theta)\n",
        "        grad[0] += (hx - Y[i])\n",
        "        grad[1] += (hx - Y[i])*X[i]\n",
        "\n",
        "    return grad\n",
        "\n",
        "def batch_gradient(X,Y,theta,batch_size = 1):\n",
        "    m = Y.shape[0]\n",
        "    indices = np.arrange(m)\n",
        "    np.random.shuffle(indices)\n",
        "    indices = indices[:batch_size]\n",
        "    grad = np.zeros((2,))\n",
        "    for i in indices:\n",
        "        h  = hypothesis(X[i],theta)\n",
        "        grad[0] += (Y[i] - h)\n",
        "        grad[1] += (Y[i] - h)*X[i]\n",
        "    return grad*0.5\n",
        "\n",
        "def gradientDescent(X, Y, learning_rate = 0.001):\n",
        "    theta = np.zeros((2, ))\n",
        "    itr = 0\n",
        "    max_itr = 100\n",
        "    error_list = []\n",
        "    \n",
        "    \n",
        "    while(itr<=max_itr):\n",
        "        \n",
        "        grad = gradient(X,Y, theta)\n",
        "        e = error(X, Y, theta)\n",
        "        \n",
        "        error_list.append(e)\n",
        "        \n",
        "        theta[0] -= learning_rate*grad[0]\n",
        "        \n",
        "        theta[1] -= learning_rate*grad[1]\n",
        "        itr +=1\n",
        "        \n",
        "    return theta, error_list"
      ],
      "metadata": {
        "id": "p0t1AkESX_cN"
      },
      "execution_count": null,
      "outputs": []
    },
    {
      "cell_type": "code",
      "source": [
        "final_theta, error_lst = gradientDescent(X,Y)"
      ],
      "metadata": {
        "id": "fdB4w19kYKZE"
      },
      "execution_count": null,
      "outputs": []
    },
    {
      "cell_type": "code",
      "source": [
        "plt.plot(error_lst)"
      ],
      "metadata": {
        "colab": {
          "base_uri": "https://localhost:8080/",
          "height": 282
        },
        "id": "FU3sfQYzZPQg",
        "outputId": "c3aa6ac2-312f-4d7b-d4d6-bd674aa1abbc"
      },
      "execution_count": null,
      "outputs": [
        {
          "output_type": "execute_result",
          "data": {
            "text/plain": [
              "[<matplotlib.lines.Line2D at 0x7fb8ae206950>]"
            ]
          },
          "metadata": {},
          "execution_count": 32
        },
        {
          "output_type": "display_data",
          "data": {
            "image/png": "[encoded data removed]",
            "text/plain": [
              "<Figure size 432x288 with 1 Axes>"
            ]
          },
          "metadata": {
            "needs_background": "light"
          }
        }
      ]
    },
    {
      "cell_type": "code",
      "source": [
        "print(final_theta)"
      ],
      "metadata": {
        "colab": {
          "base_uri": "https://localhost:8080/"
        },
        "id": "yX2NGRqWZQq1",
        "outputId": "9b23690e-886b-42c8-ad3f-c3aaaf0223fe"
      },
      "execution_count": null,
      "outputs": [
        {
          "output_type": "stream",
          "name": "stdout",
          "text": [
            "[3.32976612 0.17201252]\n"
          ]
        }
      ]
    },
    {
      "cell_type": "code",
      "source": [
        "xtest = np.linspace(-2,2,10)\n",
        "#This gives us 10 equidistant points between -2 and 2 \n",
        "print(xtest)"
      ],
      "metadata": {
        "colab": {
          "base_uri": "https://localhost:8080/"
        },
        "id": "CsONcDMBZUXk",
        "outputId": "e87aefc6-0915-43c7-8a9d-0c9168991c28"
      },
      "execution_count": null,
      "outputs": [
        {
          "output_type": "stream",
          "name": "stdout",
          "text": [
            "[-2.         -1.55555556 -1.11111111 -0.66666667 -0.22222222  0.22222222\n",
            "  0.66666667  1.11111111  1.55555556  2.        ]\n"
          ]
        }
      ]
    },
    {
      "cell_type": "code",
      "source": [
        "plt.scatter(X,Y)\n",
        "plt.plot(xtest,h_theta(xtest,final_theta), color = 'red')\n",
        "plt.show()"
      ],
      "metadata": {
        "colab": {
          "base_uri": "https://localhost:8080/",
          "height": 265
        },
        "id": "cCQsXGN8ZZ3v",
        "outputId": "135ba18e-c78d-4ee1-d177-a4f59ba9ced1"
      },
      "execution_count": null,
      "outputs": [
        {
          "output_type": "display_data",
          "data": {
            "image/png": "[encoded data removed]",
            "text/plain": [
              "<Figure size 432x288 with 1 Axes>"
            ]
          },
          "metadata": {
            "needs_background": "light"
          }
        }
      ]
    },
    {
      "cell_type": "code",
      "source": [
        ""
      ],
      "metadata": {
        "id": "fd-oxXi9Zfrk"
      },
      "execution_count": null,
      "outputs": []
    }
  ]
}