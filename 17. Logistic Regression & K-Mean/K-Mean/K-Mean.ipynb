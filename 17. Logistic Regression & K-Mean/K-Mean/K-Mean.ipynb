{
  "nbformat": 4,
  "nbformat_minor": 0,
  "metadata": {
    "colab": {
      "name": "KNN",
      "provenance": []
    },
    "kernelspec": {
      "name": "python3",
      "display_name": "Python 3"
    },
    "language_info": {
      "name": "python"
    }
  },
  "cells": [
    {
      "cell_type": "code",
      "source": [
        "import pandas as pd\n",
        "import numpy as np\n",
        "import matplotlib.pyplot as plt\n",
        "from sklearn.linear_model import LogisticRegression"
      ],
      "metadata": {
        "id": "UfnBCkaZtgiD"
      },
      "execution_count": null,
      "outputs": []
    },
    {
      "cell_type": "code",
      "source": [
        "mean_01 = np.array([1,0.5])\n",
        "cov_01 = np.array([[1,0.1],[0.1,1.2]])\n",
        "\n",
        "mean_02 = np.array([4,5])\n",
        "cov_02 = np.array([[1.21,0.1],[0.1,1.3]])\n",
        "\n",
        "## Normal distribution\n",
        "dist_01 = np.random.multivariate_normal(mean_01,cov_01,500)\n",
        "\n",
        "dist_02 = np.random.multivariate_normal(mean_02,cov_02,500)\n",
        "\n",
        "print(dist_01.shape)\n",
        "print(dist_02.shape)"
      ],
      "metadata": {
        "colab": {
          "base_uri": "https://localhost:8080/"
        },
        "id": "w8pInmvJtm2p",
        "outputId": "a54519b5-9b34-4e65-887c-ccd1b2a055a5"
      },
      "execution_count": null,
      "outputs": [
        {
          "output_type": "stream",
          "name": "stdout",
          "text": [
            "(500, 2)\n",
            "(500, 2)\n"
          ]
        }
      ]
    },
    {
      "cell_type": "code",
      "source": [
        "plt.figure(0)\n",
        "\n",
        "plt.scatter(dist_01[:,0],dist_01[:,1],label = 'Class 0')\n",
        "\n",
        "plt.scatter(dist_02[:,0],dist_02[:,1],marker = '^', color = 'r',label = 'Class 1')\n",
        "\n",
        "plt.xlim(-5,10)\n",
        "plt.ylim(-5,10)\n",
        "plt.xlabel('x1')\n",
        "plt.ylabel('x2')\n",
        "plt.legend()\n",
        "plt.show()"
      ],
      "metadata": {
        "id": "WumF-HIotmy2",
        "colab": {
          "base_uri": "https://localhost:8080/",
          "height": 283
        },
        "outputId": "adf0e3e2-c7f3-4693-d4ef-0b3dc26e1d75"
      },
      "execution_count": null,
      "outputs": [
        {
          "output_type": "display_data",
          "data": {
            "image/png": "[encoded data removed]",
            "text/plain": [
              "<Figure size 432x288 with 1 Axes>"
            ]
          },
          "metadata": {
            "needs_background": "light"
          }
        }
      ]
    },
    {
      "cell_type": "code",
      "source": [
        "x = np.concatenate([dist_01,dist_02])\n",
        "a,b = [0]*500,[1]*500\n",
        "y = np.array(a + b)\n",
        "y = y.reshape(-1,1)\n",
        "data = np.concatenate([x,y],axis = 1)\n",
        "np.random.shuffle(data)"
      ],
      "metadata": {
        "id": "5npPxtActmuB"
      },
      "execution_count": null,
      "outputs": []
    },
    {
      "cell_type": "code",
      "source": [
        "from sklearn.model_selection import train_test_split\n",
        "X = data[:,:2]\n",
        "Y = data[:,-1]\n",
        "xtrain,xtest,ytrain,ytest = train_test_split(X,Y,test_size = 0.2)"
      ],
      "metadata": {
        "id": "3qbdxSx5Bbck"
      },
      "execution_count": null,
      "outputs": []
    },
    {
      "cell_type": "code",
      "execution_count": null,
      "metadata": {
        "id": "5x-iBE11tevT"
      },
      "outputs": [],
      "source": [
        "def dist(x1,x2):\n",
        "    return np.sqrt(sum((x1-x2)**2))\n",
        "\n",
        "def knn(X,Y,queryPoint,k = 5):\n",
        "    vals = []\n",
        "    m = X.shape[0]\n",
        "    for i in range(m):\n",
        "        d = dist(queryPoint,X[i])\n",
        "        vals.append((d,Y[i]))\n",
        "        \n",
        "    vals = sorted(vals)\n",
        "    \n",
        "    vals = vals[:k]\n",
        "    \n",
        "    vals = np.array(vals)\n",
        "    \n",
        "    new_vals = np.unique(vals[:,1],return_counts = True)\n",
        "    \n",
        "    \n",
        "    index = new_vals[1].argmax()\n",
        "    \n",
        "    pred = new_vals[0][index]\n",
        "    \n",
        "    \n",
        "    return pred"
      ]
    },
    {
      "cell_type": "code",
      "source": [
        "pred = []\n",
        "for i in range(xtest.shape[0]):\n",
        "  p = knn(xtrain,ytrain,xtest[i])\n",
        "  pred.append(p)\n",
        "pred = np.array(pred)"
      ],
      "metadata": {
        "id": "X2sgzCoPBKnM"
      },
      "execution_count": null,
      "outputs": []
    },
    {
      "cell_type": "code",
      "source": [
        "(pred == ytest).sum()/ytest.shape[0]"
      ],
      "metadata": {
        "colab": {
          "base_uri": "https://localhost:8080/"
        },
        "id": "OpwV9xIDCh30",
        "outputId": "08c5f38b-b118-4594-b5b2-c317b33ee841"
      },
      "execution_count": null,
      "outputs": [
        {
          "output_type": "execute_result",
          "data": {
            "text/plain": [
              "0.99"
            ]
          },
          "metadata": {},
          "execution_count": 15
        }
      ]
    },
    {
      "cell_type": "markdown",
      "source": [
        "Apply KNN on this dataset"
      ],
      "metadata": {
        "id": "oswuS1bYEpf7"
      }
    },
    {
      "cell_type": "code",
      "source": [
        "from sklearn.datasets import load_digits"
      ],
      "metadata": {
        "id": "KY_Q09w4DB4X"
      },
      "execution_count": null,
      "outputs": []
    },
    {
      "cell_type": "code",
      "source": [
        "data = load_digits()"
      ],
      "metadata": {
        "id": "u4FNAHe4DcjR"
      },
      "execution_count": null,
      "outputs": []
    },
    {
      "cell_type": "code",
      "source": [
        "x = data['images']"
      ],
      "metadata": {
        "id": "J9KyePrRDipD"
      },
      "execution_count": null,
      "outputs": []
    },
    {
      "cell_type": "code",
      "source": [
        "y = data['target']"
      ],
      "metadata": {
        "id": "mRSdIiMfDjo4"
      },
      "execution_count": null,
      "outputs": []
    },
    {
      "cell_type": "code",
      "source": [
        "def img(sample):\n",
        "\n",
        "    plt.imshow(sample)\n",
        "    plt.show()\n",
        "    \n",
        "img(x[11])\n",
        "print(y[11])\n"
      ],
      "metadata": {
        "colab": {
          "base_uri": "https://localhost:8080/",
          "height": 282
        },
        "id": "HrSzQ9gxDpxn",
        "outputId": "137aa0cd-31ec-49f6-f2cf-2924f7111455"
      },
      "execution_count": null,
      "outputs": [
        {
          "output_type": "display_data",
          "data": {
            "image/png": "[encoded data removed]",
            "text/plain": [
              "<Figure size 432x288 with 1 Axes>"
            ]
          },
          "metadata": {
            "needs_background": "light"
          }
        },
        {
          "output_type": "stream",
          "name": "stdout",
          "text": [
            "1\n"
          ]
        }
      ]
    },
    {
      "cell_type": "code",
      "source": [
        ""
      ],
      "metadata": {
        "id": "fPbuK5kWEEFy"
      },
      "execution_count": null,
      "outputs": []
    }
  ]
}