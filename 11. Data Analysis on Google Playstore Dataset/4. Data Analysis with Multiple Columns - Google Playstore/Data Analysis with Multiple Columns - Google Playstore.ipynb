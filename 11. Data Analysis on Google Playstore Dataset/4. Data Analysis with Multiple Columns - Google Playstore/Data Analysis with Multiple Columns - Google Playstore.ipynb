{
 "cells": [
  {
   "cell_type": "code",
   "execution_count": 26,
   "id": "a88fb541",
   "metadata": {},
   "outputs": [],
   "source": [
    "import numpy as np\n",
    "import pandas as pd\n",
    "\n",
    "from sklearn.impute import SimpleImputer"
   ]
  },
  {
   "cell_type": "code",
   "execution_count": 35,
   "id": "a9ab7d6b",
   "metadata": {
    "scrolled": true
   },
   "outputs": [],
   "source": [
    "df = pd.read_csv('googleplaystore.csv')\n",
    "\n",
    "impute = SimpleImputer(missing_values = np.nan , strategy = 'mean')\n",
    "impute.fit(df.iloc[ : , 2:3 ].values)\n",
    "df.iloc[ : , 2:3 ] = impute.transform(df.iloc[ : , 2:3 ].values)\n",
    "\n",
    "df = df.dropna()"
   ]
  },
  {
   "cell_type": "code",
   "execution_count": 36,
   "id": "154ff9ff",
   "metadata": {},
   "outputs": [
    {
     "data": {
      "text/html": [
       "<div>\n",
       "<style scoped>\n",
       "    .dataframe tbody tr th:only-of-type {\n",
       "        vertical-align: middle;\n",
       "    }\n",
       "\n",
       "    .dataframe tbody tr th {\n",
       "        vertical-align: top;\n",
       "    }\n",
       "\n",
       "    .dataframe thead th {\n",
       "        text-align: right;\n",
       "    }\n",
       "</style>\n",
       "<table border=\"1\" class=\"dataframe\">\n",
       "  <thead>\n",
       "    <tr style=\"text-align: right;\">\n",
       "      <th></th>\n",
       "      <th>App</th>\n",
       "      <th>Category</th>\n",
       "      <th>Rating</th>\n",
       "      <th>Reviews</th>\n",
       "      <th>Size</th>\n",
       "      <th>Installs</th>\n",
       "      <th>Type</th>\n",
       "      <th>Price</th>\n",
       "      <th>Content Rating</th>\n",
       "      <th>Genres</th>\n",
       "      <th>Last Updated</th>\n",
       "      <th>Current Ver</th>\n",
       "      <th>Android Ver</th>\n",
       "    </tr>\n",
       "  </thead>\n",
       "  <tbody>\n",
       "    <tr>\n",
       "      <th>0</th>\n",
       "      <td>Photo Editor &amp; Candy Camera &amp; Grid &amp; ScrapBook</td>\n",
       "      <td>ART_AND_DESIGN</td>\n",
       "      <td>4.1</td>\n",
       "      <td>159</td>\n",
       "      <td>19M</td>\n",
       "      <td>10,000+</td>\n",
       "      <td>Free</td>\n",
       "      <td>0</td>\n",
       "      <td>Everyone</td>\n",
       "      <td>Art &amp; Design</td>\n",
       "      <td>January 7, 2018</td>\n",
       "      <td>1.0.0</td>\n",
       "      <td>4.0.3 and up</td>\n",
       "    </tr>\n",
       "    <tr>\n",
       "      <th>1</th>\n",
       "      <td>Coloring book moana</td>\n",
       "      <td>ART_AND_DESIGN</td>\n",
       "      <td>3.9</td>\n",
       "      <td>967</td>\n",
       "      <td>14M</td>\n",
       "      <td>500,000+</td>\n",
       "      <td>Free</td>\n",
       "      <td>0</td>\n",
       "      <td>Everyone</td>\n",
       "      <td>Art &amp; Design;Pretend Play</td>\n",
       "      <td>January 15, 2018</td>\n",
       "      <td>2.0.0</td>\n",
       "      <td>4.0.3 and up</td>\n",
       "    </tr>\n",
       "    <tr>\n",
       "      <th>2</th>\n",
       "      <td>U Launcher Lite – FREE Live Cool Themes, Hide ...</td>\n",
       "      <td>ART_AND_DESIGN</td>\n",
       "      <td>4.7</td>\n",
       "      <td>87510</td>\n",
       "      <td>8.7M</td>\n",
       "      <td>5,000,000+</td>\n",
       "      <td>Free</td>\n",
       "      <td>0</td>\n",
       "      <td>Everyone</td>\n",
       "      <td>Art &amp; Design</td>\n",
       "      <td>August 1, 2018</td>\n",
       "      <td>1.2.4</td>\n",
       "      <td>4.0.3 and up</td>\n",
       "    </tr>\n",
       "    <tr>\n",
       "      <th>3</th>\n",
       "      <td>Sketch - Draw &amp; Paint</td>\n",
       "      <td>ART_AND_DESIGN</td>\n",
       "      <td>4.5</td>\n",
       "      <td>215644</td>\n",
       "      <td>25M</td>\n",
       "      <td>50,000,000+</td>\n",
       "      <td>Free</td>\n",
       "      <td>0</td>\n",
       "      <td>Teen</td>\n",
       "      <td>Art &amp; Design</td>\n",
       "      <td>June 8, 2018</td>\n",
       "      <td>Varies with device</td>\n",
       "      <td>4.2 and up</td>\n",
       "    </tr>\n",
       "    <tr>\n",
       "      <th>4</th>\n",
       "      <td>Pixel Draw - Number Art Coloring Book</td>\n",
       "      <td>ART_AND_DESIGN</td>\n",
       "      <td>4.3</td>\n",
       "      <td>967</td>\n",
       "      <td>2.8M</td>\n",
       "      <td>100,000+</td>\n",
       "      <td>Free</td>\n",
       "      <td>0</td>\n",
       "      <td>Everyone</td>\n",
       "      <td>Art &amp; Design;Creativity</td>\n",
       "      <td>June 20, 2018</td>\n",
       "      <td>1.1</td>\n",
       "      <td>4.4 and up</td>\n",
       "    </tr>\n",
       "  </tbody>\n",
       "</table>\n",
       "</div>"
      ],
      "text/plain": [
       "                                                 App        Category  Rating  \\\n",
       "0     Photo Editor & Candy Camera & Grid & ScrapBook  ART_AND_DESIGN     4.1   \n",
       "1                                Coloring book moana  ART_AND_DESIGN     3.9   \n",
       "2  U Launcher Lite – FREE Live Cool Themes, Hide ...  ART_AND_DESIGN     4.7   \n",
       "3                              Sketch - Draw & Paint  ART_AND_DESIGN     4.5   \n",
       "4              Pixel Draw - Number Art Coloring Book  ART_AND_DESIGN     4.3   \n",
       "\n",
       "  Reviews  Size     Installs  Type Price Content Rating  \\\n",
       "0     159   19M      10,000+  Free     0       Everyone   \n",
       "1     967   14M     500,000+  Free     0       Everyone   \n",
       "2   87510  8.7M   5,000,000+  Free     0       Everyone   \n",
       "3  215644   25M  50,000,000+  Free     0           Teen   \n",
       "4     967  2.8M     100,000+  Free     0       Everyone   \n",
       "\n",
       "                      Genres      Last Updated         Current Ver  \\\n",
       "0               Art & Design   January 7, 2018               1.0.0   \n",
       "1  Art & Design;Pretend Play  January 15, 2018               2.0.0   \n",
       "2               Art & Design    August 1, 2018               1.2.4   \n",
       "3               Art & Design      June 8, 2018  Varies with device   \n",
       "4    Art & Design;Creativity     June 20, 2018                 1.1   \n",
       "\n",
       "    Android Ver  \n",
       "0  4.0.3 and up  \n",
       "1  4.0.3 and up  \n",
       "2  4.0.3 and up  \n",
       "3    4.2 and up  \n",
       "4    4.4 and up  "
      ]
     },
     "execution_count": 36,
     "metadata": {},
     "output_type": "execute_result"
    }
   ],
   "source": [
    "df.head()"
   ]
  },
  {
   "cell_type": "markdown",
   "id": "44e486d3",
   "metadata": {},
   "source": [
    "## Q1. How many free apps are there in ART_AND_DESIGN?"
   ]
  },
  {
   "cell_type": "code",
   "execution_count": 37,
   "id": "063009df",
   "metadata": {},
   "outputs": [],
   "source": [
    "df = df.values"
   ]
  },
  {
   "cell_type": "code",
   "execution_count": 45,
   "id": "58601b3a",
   "metadata": {},
   "outputs": [
    {
     "name": "stdout",
     "output_type": "stream",
     "text": [
      "There are 61 free apps from ART_AND_DESIGN\n"
     ]
    }
   ],
   "source": [
    "c = 0\n",
    "\n",
    "for i in df:\n",
    "    if(i[1] == 'ART_AND_DESIGN' and i[6] == 'Free'):\n",
    "        c += 1\n",
    "        \n",
    "print(\"There are\",c,'free apps from ART_AND_DESIGN')"
   ]
  },
  {
   "cell_type": "markdown",
   "id": "47e1335b",
   "metadata": {},
   "source": [
    "## Q2. How many apps are there in ART_AND_DESIGN with rating more then 4.5?"
   ]
  },
  {
   "cell_type": "code",
   "execution_count": 48,
   "id": "0cf1442e",
   "metadata": {},
   "outputs": [
    {
     "name": "stdout",
     "output_type": "stream",
     "text": [
      "There are 22 apps from ART_AND_DESIGN with rating more than 4.5\n"
     ]
    }
   ],
   "source": [
    "c = 0\n",
    "\n",
    "for i in df:\n",
    "    if(i[1] == 'ART_AND_DESIGN' and i[2] > 4.5):\n",
    "        c += 1\n",
    "        \n",
    "print(\"There are\",c,'apps from ART_AND_DESIGN with rating more than 4.5')"
   ]
  },
  {
   "cell_type": "markdown",
   "id": "d98d42d5",
   "metadata": {},
   "source": [
    "## Q3. How many apps are there in FAMILY with rating more then 4.5 and Free?"
   ]
  },
  {
   "cell_type": "code",
   "execution_count": 50,
   "id": "8408c77c",
   "metadata": {},
   "outputs": [
    {
     "name": "stdout",
     "output_type": "stream",
     "text": [
      "There are 19 free apps from ART_AND_DESIGN with rating more than 4.5\n"
     ]
    }
   ],
   "source": [
    "c = 0\n",
    "\n",
    "for i in df:\n",
    "    if(i[1] == 'ART_AND_DESIGN' and i[2] > 4.5 and i[6] == 'Free'):\n",
    "        c += 1\n",
    "        \n",
    "print(\"There are\",c,'free apps from ART_AND_DESIGN with rating more than 4.5')"
   ]
  },
  {
   "cell_type": "markdown",
   "id": "df02bbce",
   "metadata": {},
   "source": [
    "## Q4. List all the free apps with rating more then 4.5 and category is FAMILY?"
   ]
  },
  {
   "cell_type": "code",
   "execution_count": 61,
   "id": "557a1a0e",
   "metadata": {},
   "outputs": [
    {
     "name": "stdout",
     "output_type": "stream",
     "text": [
      "****************************************************************************************************\n",
      "        These are the free apps where Category is FAMILY with rating more than 4.5.\n",
      "****************************************************************************************************\n",
      "U Launcher Lite – FREE Live Cool Themes, Hide Apps\n",
      "Kids Paint Free - Drawing Fun\n",
      "Mandala Coloring Book\n",
      "Photo Designer - Write your name with shapes\n",
      "ibis Paint X\n",
      "Superheroes Wallpapers | 4K Backgrounds\n",
      "HD Mickey Minnie Wallpapers\n",
      "Harley Quinn wallpapers HD\n",
      "Colorfit - Drawing & Coloring\n",
      "I Creative Idea\n",
      "UNICORN - Color By Number & Pixel Art Coloring\n",
      "PIP Camera - PIP Collage Maker\n",
      "Canva: Poster, banner, card maker & graphic design\n",
      "Install images with music to make video without Net - 2018\n",
      "Cardi B Wallpaper\n",
      "X Launcher: With OS11 Style Theme & Control Center\n",
      "AJ Styles HD Wallpapers\n",
      "Fantasy theme dark bw black building\n",
      "Spring flowers theme couleurs d t space\n",
      "----------------------------------------------------------------------------------------------------\n"
     ]
    }
   ],
   "source": [
    "print(\"*\"*100)\n",
    "print(\"        These are the free apps where Category is FAMILY with rating more than 4.5.\")\n",
    "print(\"*\"*100)\n",
    "\n",
    "for i in df:\n",
    "    if(i[1] == 'ART_AND_DESIGN' and i[2] > 4.5 and i[6] == 'Free'):\n",
    "        print(i[0])\n",
    "print(\"-\"*100)"
   ]
  },
  {
   "cell_type": "code",
   "execution_count": null,
   "id": "98985687",
   "metadata": {},
   "outputs": [],
   "source": []
  }
 ],
 "metadata": {
  "kernelspec": {
   "display_name": "Python 3",
   "language": "python",
   "name": "python3"
  },
  "language_info": {
   "codemirror_mode": {
    "name": "ipython",
    "version": 3
   },
   "file_extension": ".py",
   "mimetype": "text/x-python",
   "name": "python",
   "nbconvert_exporter": "python",
   "pygments_lexer": "ipython3",
   "version": "3.8.8"
  }
 },
 "nbformat": 4,
 "nbformat_minor": 5
}
