{
  "nbformat": 4,
  "nbformat_minor": 0,
  "metadata": {
    "colab": {
      "name": "Type Casting in python ",
      "provenance": []
    },
    "kernelspec": {
      "name": "python3",
      "display_name": "Python 3"
    },
    "language_info": {
      "name": "python"
    }
  },
  "cells": [
    {
      "cell_type": "markdown",
      "source": [
        "Type Conversion"
      ],
      "metadata": {
        "id": "jQBic0JyvYxe"
      }
    },
    {
      "cell_type": "code",
      "execution_count": 1,
      "metadata": {
        "colab": {
          "base_uri": "https://localhost:8080/"
        },
        "id": "B-rSLRIzuSry",
        "outputId": "39ac253c-d18a-4fcf-99c4-62f6ef293e64"
      },
      "outputs": [
        {
          "output_type": "stream",
          "name": "stdout",
          "text": [
            "<class 'int'>\n",
            "<class 'float'>\n",
            "10.0\n",
            "<class 'float'>\n",
            "21.0\n",
            "<class 'float'>\n"
          ]
        }
      ],
      "source": [
        "# Python program to demonstrate implicit type Casting\n",
        " \n",
        "# Python automatically converts a to int\n",
        "a = 7\n",
        "print(type(a))\n",
        " \n",
        "# Python automatically converts b to float\n",
        "b = 3.0\n",
        "print(type(b))\n",
        " \n",
        "# Python automatically converts c to float as it is a float addition\n",
        "c = a + b\n",
        "print(c)\n",
        "print(type(c))\n",
        " \n",
        "# Python automatically converts d to float as it is a float multiplication\n",
        "d = a * b\n",
        "print(d)\n",
        "print(type(d))\n"
      ]
    },
    {
      "cell_type": "code",
      "source": [
        "# Python program to demonstrate type Casting\n",
        " \n",
        "# int variable\n",
        "a = 5\n",
        " \n",
        "# typecast to float\n",
        "n = float(a)\n",
        " \n",
        "print(n)\n",
        "print(type(n))\n"
      ],
      "metadata": {
        "colab": {
          "base_uri": "https://localhost:8080/"
        },
        "id": "ibp7s6uJvfyj",
        "outputId": "c84cdfed-0c06-4f0c-ce58-ef3a32ddb8c2"
      },
      "execution_count": null,
      "outputs": [
        {
          "output_type": "stream",
          "name": "stdout",
          "text": [
            "5.0\n",
            "<class 'float'>\n"
          ]
        }
      ]
    },
    {
      "cell_type": "code",
      "source": [
        "# Python program to demonstrate type Casting\n",
        " \n",
        "# int variable\n",
        "a = 5.9\n",
        " \n",
        "# typecast to int\n",
        "n = int(a)\n",
        " \n",
        "print(n)\n",
        "print(type(n))\n"
      ],
      "metadata": {
        "colab": {
          "base_uri": "https://localhost:8080/"
        },
        "id": "nPhM1SNHvmrC",
        "outputId": "e2ed4645-47c8-44ac-c626-d1f09b5a8590"
      },
      "execution_count": null,
      "outputs": [
        {
          "output_type": "stream",
          "name": "stdout",
          "text": [
            "5\n",
            "<class 'int'>\n"
          ]
        }
      ]
    },
    {
      "cell_type": "code",
      "source": [
        "# Python program to demonstrate type Casting\n",
        " \n",
        "# int variable\n",
        "a = 5\n",
        " \n",
        "# typecast to str\n",
        "n = str(a)\n",
        " \n",
        "print(n)\n",
        "print(type(n))\n"
      ],
      "metadata": {
        "colab": {
          "base_uri": "https://localhost:8080/"
        },
        "id": "KRjAJzd8vqtB",
        "outputId": "0ae309ed-2275-406e-ba60-6358353dfcb7"
      },
      "execution_count": null,
      "outputs": [
        {
          "output_type": "stream",
          "name": "stdout",
          "text": [
            "5\n",
            "<class 'str'>\n"
          ]
        }
      ]
    },
    {
      "cell_type": "code",
      "source": [
        "# Python program to demonstrate type Casting\n",
        " \n",
        "# string variable\n",
        "a = \"5\"\n",
        " \n",
        "# typecast to int\n",
        "n = int(a)\n",
        " \n",
        "print(n)\n",
        "print(type(n))\n"
      ],
      "metadata": {
        "colab": {
          "base_uri": "https://localhost:8080/"
        },
        "id": "AfrzdIxqvvw3",
        "outputId": "4d430a92-bdc6-472d-8dde-0bd8aa5d28d9"
      },
      "execution_count": null,
      "outputs": [
        {
          "output_type": "stream",
          "name": "stdout",
          "text": [
            "5\n",
            "<class 'int'>\n"
          ]
        }
      ]
    },
    {
      "cell_type": "code",
      "source": [
        "# Python program to demonstrate type Casting\n",
        " \n",
        "# string variable\n",
        "a = \"5.9\"\n",
        " \n",
        "# typecast to float\n",
        "n = float(a)\n",
        " \n",
        "print(n)\n",
        "print(type(n))\n"
      ],
      "metadata": {
        "colab": {
          "base_uri": "https://localhost:8080/"
        },
        "id": "nqbqF9WNvysK",
        "outputId": "06d1a634-8f86-4bf0-ae90-cc00a2c6dd1b"
      },
      "execution_count": null,
      "outputs": [
        {
          "output_type": "stream",
          "name": "stdout",
          "text": [
            "5.9\n",
            "<class 'float'>\n"
          ]
        }
      ]
    },
    {
      "cell_type": "code",
      "source": [
        ""
      ],
      "metadata": {
        "id": "bJK6jfjyv1iv"
      },
      "execution_count": null,
      "outputs": []
    }
  ]
}