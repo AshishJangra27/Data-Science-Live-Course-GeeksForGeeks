{
  "nbformat": 4,
  "nbformat_minor": 0,
  "metadata": {
    "colab": {
      "name": "Arithmetic Operations",
      "provenance": []
    },
    "kernelspec": {
      "name": "python3",
      "display_name": "Python 3"
    },
    "language_info": {
      "name": "python"
    }
  },
  "cells": [
    {
      "cell_type": "markdown",
      "source": [
        "**Arithmetic Operations on Strings**"
      ],
      "metadata": {
        "id": "T5oHyiAOsg7x"
      }
    },
    {
      "cell_type": "markdown",
      "source": [
        "Addition"
      ],
      "metadata": {
        "id": "fsr0np9DsaC1"
      }
    },
    {
      "cell_type": "code",
      "execution_count": 1,
      "metadata": {
        "colab": {
          "base_uri": "https://localhost:8080/"
        },
        "id": "cjwZ4fAIpqcK",
        "outputId": "de8ea3fc-0f6a-4103-f43d-4ea03f325b82"
      },
      "outputs": [
        {
          "output_type": "stream",
          "name": "stdout",
          "text": [
            "GeeksforGeeks\n"
          ]
        }
      ],
      "source": [
        "str1 = 'Geeksfor'\n",
        "str2 = 'Geeks'\n",
        "print(str1 + str2)\n"
      ]
    },
    {
      "cell_type": "markdown",
      "source": [
        "Subtraction\n"
      ],
      "metadata": {
        "id": "J93zMbaHsc1k"
      }
    },
    {
      "cell_type": "code",
      "source": [
        "str1 = 'Geeksfor'\n",
        "str2 = 'Geeks'\n",
        "print(str1 - str2)\n"
      ],
      "metadata": {
        "colab": {
          "base_uri": "https://localhost:8080/",
          "height": 200
        },
        "id": "D7rc296krSQv",
        "outputId": "b821e390-92ad-47f9-d771-a01637e3e219"
      },
      "execution_count": null,
      "outputs": [
        {
          "output_type": "error",
          "ename": "TypeError",
          "evalue": "ignored",
          "traceback": [
            "\u001b[0;31m---------------------------------------------------------------------------\u001b[0m",
            "\u001b[0;31mTypeError\u001b[0m                                 Traceback (most recent call last)",
            "\u001b[0;32m<ipython-input-2-6e5745747226>\u001b[0m in \u001b[0;36m<module>\u001b[0;34m()\u001b[0m\n\u001b[1;32m      1\u001b[0m \u001b[0mstr1\u001b[0m \u001b[0;34m=\u001b[0m \u001b[0;34m'Geeksfor'\u001b[0m\u001b[0;34m\u001b[0m\u001b[0;34m\u001b[0m\u001b[0m\n\u001b[1;32m      2\u001b[0m \u001b[0mstr2\u001b[0m \u001b[0;34m=\u001b[0m \u001b[0;34m'Geeks'\u001b[0m\u001b[0;34m\u001b[0m\u001b[0;34m\u001b[0m\u001b[0m\n\u001b[0;32m----> 3\u001b[0;31m \u001b[0mprint\u001b[0m\u001b[0;34m(\u001b[0m\u001b[0mstr1\u001b[0m \u001b[0;34m-\u001b[0m \u001b[0mstr2\u001b[0m\u001b[0;34m)\u001b[0m\u001b[0;34m\u001b[0m\u001b[0;34m\u001b[0m\u001b[0m\n\u001b[0m",
            "\u001b[0;31mTypeError\u001b[0m: unsupported operand type(s) for -: 'str' and 'str'"
          ]
        }
      ]
    },
    {
      "cell_type": "markdown",
      "source": [
        "Multiplication"
      ],
      "metadata": {
        "id": "J5BXnJDLslsF"
      }
    },
    {
      "cell_type": "code",
      "source": [
        "str1 = 'Geeksfor'\n",
        "str2 = 'Geeks'\n",
        "print(str1* str2)\n"
      ],
      "metadata": {
        "colab": {
          "base_uri": "https://localhost:8080/",
          "height": 200
        },
        "id": "wTCGpV28rZup",
        "outputId": "e0ad27d5-df18-4d7d-b4ba-450749e025a8"
      },
      "execution_count": null,
      "outputs": [
        {
          "output_type": "error",
          "ename": "TypeError",
          "evalue": "ignored",
          "traceback": [
            "\u001b[0;31m---------------------------------------------------------------------------\u001b[0m",
            "\u001b[0;31mTypeError\u001b[0m                                 Traceback (most recent call last)",
            "\u001b[0;32m<ipython-input-3-25c90a55b6f3>\u001b[0m in \u001b[0;36m<module>\u001b[0;34m()\u001b[0m\n\u001b[1;32m      1\u001b[0m \u001b[0mstr1\u001b[0m \u001b[0;34m=\u001b[0m \u001b[0;34m'Geeksfor'\u001b[0m\u001b[0;34m\u001b[0m\u001b[0;34m\u001b[0m\u001b[0m\n\u001b[1;32m      2\u001b[0m \u001b[0mstr2\u001b[0m \u001b[0;34m=\u001b[0m \u001b[0;34m'Geeks'\u001b[0m\u001b[0;34m\u001b[0m\u001b[0;34m\u001b[0m\u001b[0m\n\u001b[0;32m----> 3\u001b[0;31m \u001b[0mprint\u001b[0m\u001b[0;34m(\u001b[0m\u001b[0mstr1\u001b[0m\u001b[0;34m*\u001b[0m \u001b[0mstr2\u001b[0m\u001b[0;34m)\u001b[0m\u001b[0;34m\u001b[0m\u001b[0;34m\u001b[0m\u001b[0m\n\u001b[0m",
            "\u001b[0;31mTypeError\u001b[0m: can't multiply sequence by non-int of type 'str'"
          ]
        }
      ]
    },
    {
      "cell_type": "code",
      "source": [
        "str1 = 'Geeks'\n",
        "print(str1*3)\n"
      ],
      "metadata": {
        "colab": {
          "base_uri": "https://localhost:8080/"
        },
        "id": "_0g18U-GrdkK",
        "outputId": "55348480-f0be-4a88-ce8f-6ddcc4fb1ba7"
      },
      "execution_count": null,
      "outputs": [
        {
          "output_type": "stream",
          "name": "stdout",
          "text": [
            "GeeksGeeksGeeks\n"
          ]
        }
      ]
    },
    {
      "cell_type": "markdown",
      "source": [
        "**Arithmetic Operations on Numbers/integers**"
      ],
      "metadata": {
        "id": "vXiZMw87spbg"
      }
    },
    {
      "cell_type": "markdown",
      "source": [
        "Addition"
      ],
      "metadata": {
        "id": "kezZ43PQsu6-"
      }
    },
    {
      "cell_type": "code",
      "source": [
        "val1 = 2\n",
        "val2 = 3\n",
        "  \n",
        "# using the addition operator\n",
        "\n",
        "res = val1 + val2\n",
        "print(res)"
      ],
      "metadata": {
        "colab": {
          "base_uri": "https://localhost:8080/"
        },
        "id": "MUTPAbKSrfbP",
        "outputId": "a7c71734-0b43-4a62-a6e4-d440cf1747f8"
      },
      "execution_count": null,
      "outputs": [
        {
          "output_type": "stream",
          "name": "stdout",
          "text": [
            "5\n"
          ]
        }
      ]
    },
    {
      "cell_type": "markdown",
      "source": [
        "Subtraction"
      ],
      "metadata": {
        "id": "v3MSQGBEswe9"
      }
    },
    {
      "cell_type": "code",
      "source": [
        "val1 = 2\n",
        "val2 = 3\n",
        "  \n",
        "# using the subtraction operator\n",
        "\n",
        "res = val1 - val2\n",
        "print(res)"
      ],
      "metadata": {
        "colab": {
          "base_uri": "https://localhost:8080/"
        },
        "id": "SV1XC986rouU",
        "outputId": "cef45e04-a1ec-45e3-98af-4812bd7742de"
      },
      "execution_count": null,
      "outputs": [
        {
          "output_type": "stream",
          "name": "stdout",
          "text": [
            "-1\n"
          ]
        }
      ]
    },
    {
      "cell_type": "markdown",
      "source": [
        "Multiplication"
      ],
      "metadata": {
        "id": "hQb0CV5jsy5I"
      }
    },
    {
      "cell_type": "code",
      "source": [
        "val1 = 2\n",
        "val2 = 3\n",
        "  \n",
        "# using the multiplication operator\n",
        "\n",
        "res = val1 * val2\n",
        "print(res)"
      ],
      "metadata": {
        "colab": {
          "base_uri": "https://localhost:8080/"
        },
        "id": "ruhayckVryT3",
        "outputId": "0a4fae6f-c980-441d-a35a-f165d6ed9e44"
      },
      "execution_count": null,
      "outputs": [
        {
          "output_type": "stream",
          "name": "stdout",
          "text": [
            "6\n"
          ]
        }
      ]
    },
    {
      "cell_type": "markdown",
      "source": [
        "Division"
      ],
      "metadata": {
        "id": "kf4E9tzws0Xe"
      }
    },
    {
      "cell_type": "code",
      "source": [
        "val1 = 3\n",
        "val2 = 2\n",
        "  \n",
        "# using the division operator\n",
        "res = val1 / val2\n",
        "print(res)"
      ],
      "metadata": {
        "colab": {
          "base_uri": "https://localhost:8080/"
        },
        "id": "Oh6AGVWqsG0F",
        "outputId": "652310ba-e2ff-4550-bb6b-51a822e009de"
      },
      "execution_count": null,
      "outputs": [
        {
          "output_type": "stream",
          "name": "stdout",
          "text": [
            "1.5\n"
          ]
        }
      ]
    },
    {
      "cell_type": "markdown",
      "source": [
        "Modulus"
      ],
      "metadata": {
        "id": "v3IugEZ_s2XE"
      }
    },
    {
      "cell_type": "code",
      "source": [
        "val1 = 3\n",
        "val2 = 2\n",
        "  \n",
        "# using the modulus operator\n",
        "res = val1 % val2\n",
        "print(res)"
      ],
      "metadata": {
        "colab": {
          "base_uri": "https://localhost:8080/"
        },
        "id": "XgxeKAgQsI8j",
        "outputId": "0b60ed85-278d-412b-e9c8-c8e7374f9b5b"
      },
      "execution_count": null,
      "outputs": [
        {
          "output_type": "stream",
          "name": "stdout",
          "text": [
            "1\n"
          ]
        }
      ]
    },
    {
      "cell_type": "markdown",
      "source": [
        "Exponent"
      ],
      "metadata": {
        "id": "HnONGynJs3cz"
      }
    },
    {
      "cell_type": "code",
      "source": [
        "val1 = 2\n",
        "val2 = 3\n",
        "  \n",
        "# using the exponentiation operator\n",
        "res = val1 ** val2\n",
        "print(res)"
      ],
      "metadata": {
        "colab": {
          "base_uri": "https://localhost:8080/"
        },
        "id": "i-IC8MLhsMv8",
        "outputId": "353d86e1-09f2-4006-9735-0e6bbf57f136"
      },
      "execution_count": null,
      "outputs": [
        {
          "output_type": "stream",
          "name": "stdout",
          "text": [
            "8\n"
          ]
        }
      ]
    },
    {
      "cell_type": "markdown",
      "source": [
        "Floor division"
      ],
      "metadata": {
        "id": "241IuoXns6VA"
      }
    },
    {
      "cell_type": "code",
      "source": [
        "val1 = 3\n",
        "val2 = 2\n",
        "  \n",
        "# using the floor division\n",
        "res = val1 // val2\n",
        "print(res)"
      ],
      "metadata": {
        "colab": {
          "base_uri": "https://localhost:8080/"
        },
        "id": "2rbYPI95sP5n",
        "outputId": "f491f0b8-9382-423a-a763-f0109b0b5b3b"
      },
      "execution_count": null,
      "outputs": [
        {
          "output_type": "stream",
          "name": "stdout",
          "text": [
            "1\n"
          ]
        }
      ]
    },
    {
      "cell_type": "code",
      "source": [
        ""
      ],
      "metadata": {
        "id": "pHfPZOZ2sWS8"
      },
      "execution_count": null,
      "outputs": []
    }
  ]
}