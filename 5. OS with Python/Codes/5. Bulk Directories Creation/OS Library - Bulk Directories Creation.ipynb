{
 "cells": [
  {
   "cell_type": "code",
   "execution_count": 1,
   "id": "8e3a1d6c",
   "metadata": {},
   "outputs": [],
   "source": [
    "import os"
   ]
  },
  {
   "cell_type": "code",
   "execution_count": 18,
   "id": "ccf59ee6",
   "metadata": {},
   "outputs": [],
   "source": [
    "n = 'GFG'\n",
    "\n",
    "os.mkdir(n)\n",
    "\n",
    "for i in range(1000):\n",
    "    \n",
    "    name = n +'/'+ n + \" \" + str(i+1)\n",
    "    os.mkdir(name)"
   ]
  }
 ],
 "metadata": {
  "kernelspec": {
   "display_name": "Python 3",
   "language": "python",
   "name": "python3"
  },
  "language_info": {
   "codemirror_mode": {
    "name": "ipython",
    "version": 3
   },
   "file_extension": ".py",
   "mimetype": "text/x-python",
   "name": "python",
   "nbconvert_exporter": "python",
   "pygments_lexer": "ipython3",
   "version": "3.8.8"
  }
 },
 "nbformat": 4,
 "nbformat_minor": 5
}
