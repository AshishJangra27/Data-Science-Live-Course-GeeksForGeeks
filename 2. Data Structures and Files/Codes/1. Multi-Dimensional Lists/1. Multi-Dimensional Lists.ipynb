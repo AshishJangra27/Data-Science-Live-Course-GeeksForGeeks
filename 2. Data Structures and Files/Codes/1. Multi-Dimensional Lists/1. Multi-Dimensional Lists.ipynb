{
 "cells": [
  {
   "cell_type": "code",
   "execution_count": 1,
   "metadata": {
    "id": "K-m0IQvRw_DR"
   },
   "outputs": [],
   "source": [
    "lst = [1,2,3,4,5]"
   ]
  },
  {
   "cell_type": "code",
   "execution_count": 2,
   "metadata": {
    "colab": {
     "base_uri": "https://localhost:8080/"
    },
    "id": "HNxuzmF90-a7",
    "outputId": "39636fb1-b247-436f-c323-d88a85eea020"
   },
   "outputs": [
    {
     "data": {
      "text/plain": [
       "list"
      ]
     },
     "execution_count": 2,
     "metadata": {},
     "output_type": "execute_result"
    }
   ],
   "source": [
    "type(lst)"
   ]
  },
  {
   "cell_type": "code",
   "execution_count": 3,
   "metadata": {
    "colab": {
     "base_uri": "https://localhost:8080/"
    },
    "id": "_kM6RJzM0_SQ",
    "outputId": "800af6a3-bf59-4c29-fb82-77766e1b3cde"
   },
   "outputs": [
    {
     "data": {
      "text/plain": [
       "[1, 2, 3, 4, 5]"
      ]
     },
     "execution_count": 3,
     "metadata": {},
     "output_type": "execute_result"
    }
   ],
   "source": [
    "lst"
   ]
  },
  {
   "cell_type": "code",
   "execution_count": 4,
   "metadata": {
    "colab": {
     "base_uri": "https://localhost:8080/"
    },
    "id": "Cym2czHb1Gci",
    "outputId": "d257a2b8-40eb-4ce5-ece1-e0cdfe6bd9b1"
   },
   "outputs": [
    {
     "data": {
      "text/plain": [
       "1"
      ]
     },
     "execution_count": 4,
     "metadata": {},
     "output_type": "execute_result"
    }
   ],
   "source": [
    "lst[0]"
   ]
  },
  {
   "cell_type": "code",
   "execution_count": 17,
   "metadata": {
    "id": "Sj0iKucY1L6H"
   },
   "outputs": [],
   "source": [
    "lst = [[1,2,3,4],\n",
    "       [5,6,7,8],\n",
    "       [0,9,8,7]]"
   ]
  },
  {
   "cell_type": "code",
   "execution_count": 18,
   "metadata": {
    "colab": {
     "base_uri": "https://localhost:8080/"
    },
    "id": "omcCOeDx1oTA",
    "outputId": "4c51848c-0069-4365-8bfd-0e91f78914ef"
   },
   "outputs": [
    {
     "data": {
      "text/plain": [
       "8"
      ]
     },
     "execution_count": 18,
     "metadata": {},
     "output_type": "execute_result"
    }
   ],
   "source": [
    "lst[2][2]"
   ]
  },
  {
   "cell_type": "code",
   "execution_count": 20,
   "metadata": {
    "id": "PI_WFiWH1z-s"
   },
   "outputs": [],
   "source": [
    "lst = [[[1,0,0],[2,0,0],[3,0,0]],\n",
    "       [[4,0,0],[5,0,0],[6,0,0]],\n",
    "       [[7,0,0],[8,0,0],[9,0,0]]]"
   ]
  },
  {
   "cell_type": "code",
   "execution_count": 21,
   "metadata": {
    "colab": {
     "base_uri": "https://localhost:8080/"
    },
    "id": "wWKvibaD28YQ",
    "outputId": "bd229197-ce6f-43ab-d4d1-76e25bd71c3e"
   },
   "outputs": [
    {
     "data": {
      "text/plain": [
       "[[[1, 0, 0], [2, 0, 0], [3, 0, 0]],\n",
       " [[4, 0, 0], [5, 0, 0], [6, 0, 0]],\n",
       " [[7, 0, 0], [8, 0, 0], [9, 0, 0]]]"
      ]
     },
     "execution_count": 21,
     "metadata": {},
     "output_type": "execute_result"
    }
   ],
   "source": [
    "lst"
   ]
  },
  {
   "cell_type": "code",
   "execution_count": 23,
   "metadata": {
    "colab": {
     "base_uri": "https://localhost:8080/"
    },
    "id": "WKd9LjYO29KG",
    "outputId": "e02671ee-0b99-46f3-effc-e94820798192"
   },
   "outputs": [
    {
     "data": {
      "text/plain": [
       "8"
      ]
     },
     "execution_count": 23,
     "metadata": {},
     "output_type": "execute_result"
    }
   ],
   "source": [
    "lst[2][1][0]"
   ]
  },
  {
   "cell_type": "code",
   "execution_count": 24,
   "metadata": {
    "colab": {
     "base_uri": "https://localhost:8080/"
    },
    "id": "s2HIUtl73E8N",
    "outputId": "7b7739c0-3d14-4c0b-8054-ee1278a52995"
   },
   "outputs": [
    {
     "data": {
      "text/plain": [
       "[8, 0, 0]"
      ]
     },
     "execution_count": 24,
     "metadata": {},
     "output_type": "execute_result"
    }
   ],
   "source": [
    "lst[2][1]"
   ]
  },
  {
   "cell_type": "code",
   "execution_count": 46,
   "metadata": {
    "id": "tpbyrap33ruy"
   },
   "outputs": [],
   "source": [
    "#        Roll No, Name, Eng, Hin, Pun, Sci, Math\n",
    "\n",
    "record = [[1, \"Shivam\" , 75,  85, 75 , 86 , 86],\n",
    "          [2, \"Divya\"  , 85,  85, 76 , 96 , 82],\n",
    "          [3, \"Devansh\", 46,  65, 67 , 46 , 96],\n",
    "          [4, \"Dev\"    , 43,  55, 68 , 36 , 66]]"
   ]
  },
  {
   "cell_type": "code",
   "execution_count": 47,
   "metadata": {
    "colab": {
     "base_uri": "https://localhost:8080/"
    },
    "id": "LAVWskvl6Vu7",
    "outputId": "162a268e-570b-4855-a3f8-0282d9f300b3"
   },
   "outputs": [
    {
     "data": {
      "text/plain": [
       "[[1, 'Shivam', 75, 85, 75, 86, 86],\n",
       " [2, 'Divya', 85, 85, 76, 96, 82],\n",
       " [3, 'Devansh', 46, 65, 67, 46, 96],\n",
       " [4, 'Dev', 43, 55, 68, 36, 66]]"
      ]
     },
     "execution_count": 47,
     "metadata": {},
     "output_type": "execute_result"
    }
   ],
   "source": [
    "record"
   ]
  },
  {
   "cell_type": "code",
   "execution_count": 48,
   "metadata": {
    "colab": {
     "base_uri": "https://localhost:8080/"
    },
    "id": "eSHJNgUm6yOQ",
    "outputId": "8c7a8160-0e61-4a51-90e6-231f50d7b162"
   },
   "outputs": [
    {
     "name": "stdout",
     "output_type": "stream",
     "text": [
      "1\n",
      "2\n",
      "3\n",
      "4\n"
     ]
    }
   ],
   "source": [
    "for i in record:\n",
    "  print(i[0])"
   ]
  },
  {
   "cell_type": "code",
   "execution_count": 49,
   "metadata": {
    "colab": {
     "base_uri": "https://localhost:8080/"
    },
    "id": "WUQ8uTqK6Wat",
    "outputId": "8a5d064e-72f2-4b07-acf0-21f1b4895267"
   },
   "outputs": [
    {
     "name": "stdout",
     "output_type": "stream",
     "text": [
      "Enter the roll number: 1\n",
      "***********\n",
      "Name:  Shivam\n",
      "Eng:  75\n",
      "Hin:  85\n",
      "Pun:  75\n",
      "Sci:  86\n",
      "Math:  86\n",
      "Average:  81.39999999999999\n"
     ]
    }
   ],
   "source": [
    "roll_no = int(input(\"Enter the roll number: \"))\n",
    "\n",
    "for i in record:\n",
    "  if (i[0] == roll_no):\n",
    "    print(\"***********\")\n",
    "    print(\"Name: \",i[1])\n",
    "    print(\"Eng: \",i[2])\n",
    "    print(\"Hin: \",i[3])\n",
    "    print(\"Pun: \",i[4])\n",
    "    print(\"Sci: \",i[5])\n",
    "    print(\"Math: \",i[6])\n",
    "\n",
    "    avg = ((i[2] + i[3] + i[4] + i[5] + i[6])/500)*100\n",
    "\n",
    "    print(\"Average: \", avg)"
   ]
  },
  {
   "cell_type": "code",
   "execution_count": 49,
   "metadata": {
    "id": "CvYfqyTt7GY2"
   },
   "outputs": [],
   "source": []
  },
  {
   "cell_type": "code",
   "execution_count": 54,
   "metadata": {
    "id": "bOBcFLob846Y"
   },
   "outputs": [],
   "source": [
    "data = []\n",
    "\n",
    "for i in record:\n",
    "  \n",
    "  avg = (i[2] + i[3] + i[4] + i[5] + i[6])/5\n",
    "\n",
    "  if (avg > 90 and avg < 100):\n",
    "    grade = \"A+\"\n",
    "  if (avg > 80 and avg < 90):\n",
    "    grade = \"A\"\n",
    "  if (avg > 70 and avg < 80):\n",
    "    grade = \"B+\"\n",
    "  if (avg > 60 and avg < 70):\n",
    "    grade = \"B\"\n",
    "  if (avg > 50 and avg < 60):\n",
    "    grade = \"C\"\n",
    "  if (avg < 50 ):\n",
    "    grade = \"F\"\n",
    "\n",
    "  data.append([i[0],i[1], avg, grade])"
   ]
  },
  {
   "cell_type": "code",
   "execution_count": 55,
   "metadata": {
    "colab": {
     "base_uri": "https://localhost:8080/"
    },
    "id": "S1ApHcwn9P-Y",
    "outputId": "e2e5ab38-ced6-459a-8bb5-08d9ce18971f"
   },
   "outputs": [
    {
     "data": {
      "text/plain": [
       "[[1, 'Shivam', 81.4, 'A'],\n",
       " [2, 'Divya', 84.8, 'A'],\n",
       " [3, 'Devansh', 64.0, 'B'],\n",
       " [4, 'Dev', 53.6, 'C']]"
      ]
     },
     "execution_count": 55,
     "metadata": {},
     "output_type": "execute_result"
    }
   ],
   "source": [
    "data"
   ]
  },
  {
   "cell_type": "code",
   "execution_count": 56,
   "metadata": {
    "colab": {
     "base_uri": "https://localhost:8080/"
    },
    "id": "WNPTjuWX9wsb",
    "outputId": "de1b70f2-0b59-4782-a9f3-0edfc8bb4866"
   },
   "outputs": [
    {
     "data": {
      "text/plain": [
       "[[1, 'Shivam', 75, 85, 75, 86, 86],\n",
       " [2, 'Divya', 85, 85, 76, 96, 82],\n",
       " [3, 'Devansh', 46, 65, 67, 46, 96],\n",
       " [4, 'Dev', 43, 55, 68, 36, 66]]"
      ]
     },
     "execution_count": 56,
     "metadata": {},
     "output_type": "execute_result"
    }
   ],
   "source": [
    "record"
   ]
  },
  {
   "cell_type": "code",
   "execution_count": 65,
   "metadata": {
    "colab": {
     "base_uri": "https://localhost:8080/"
    },
    "id": "QDouDL63_R0t",
    "outputId": "423c5dfa-a49d-4725-cfc5-f2b327e0ec16"
   },
   "outputs": [
    {
     "name": "stdout",
     "output_type": "stream",
     "text": [
      "81.4\n",
      "84.8\n",
      "64.0\n",
      "53.6\n"
     ]
    }
   ],
   "source": [
    "for i in record:\n",
    "  print(sum(i[2:])/len(i[2:]))"
   ]
  },
  {
   "cell_type": "code",
   "execution_count": 59,
   "metadata": {
    "colab": {
     "base_uri": "https://localhost:8080/"
    },
    "id": "c4pORiVo_eSM",
    "outputId": "08d079db-6cb8-4a8f-edd1-8ee841753630"
   },
   "outputs": [
    {
     "data": {
      "text/plain": [
       "1"
      ]
     },
     "execution_count": 59,
     "metadata": {},
     "output_type": "execute_result"
    }
   ],
   "source": [
    "record[0][0]"
   ]
  },
  {
   "cell_type": "code",
   "execution_count": null,
   "metadata": {
    "id": "QfP56mYl_fRq"
   },
   "outputs": [],
   "source": []
  }
 ],
 "metadata": {
  "colab": {
   "name": "Multi Dimensional Lists - Batch 2",
   "provenance": []
  },
  "kernelspec": {
   "display_name": "Python 3",
   "language": "python",
   "name": "python3"
  },
  "language_info": {
   "codemirror_mode": {
    "name": "ipython",
    "version": 3
   },
   "file_extension": ".py",
   "mimetype": "text/x-python",
   "name": "python",
   "nbconvert_exporter": "python",
   "pygments_lexer": "ipython3",
   "version": "3.8.8"
  }
 },
 "nbformat": 4,
 "nbformat_minor": 1
}
