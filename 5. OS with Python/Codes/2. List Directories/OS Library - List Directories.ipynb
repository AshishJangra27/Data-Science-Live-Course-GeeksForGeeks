{
 "cells": [
  {
   "cell_type": "code",
   "execution_count": 25,
   "id": "63174199",
   "metadata": {},
   "outputs": [],
   "source": [
    "import os"
   ]
  },
  {
   "cell_type": "code",
   "execution_count": 27,
   "id": "b04e2757",
   "metadata": {},
   "outputs": [
    {
     "data": {
      "text/plain": [
       "'/Users/ashish/Desktop'"
      ]
     },
     "execution_count": 27,
     "metadata": {},
     "output_type": "execute_result"
    }
   ],
   "source": [
    "os.getcwd()"
   ]
  },
  {
   "cell_type": "code",
   "execution_count": 45,
   "id": "e9eb6b6b",
   "metadata": {},
   "outputs": [
    {
     "name": "stdout",
     "output_type": "stream",
     "text": [
      "A\n",
      "F\n",
      "C\n",
      "D\n",
      "E\n",
      "B\n"
     ]
    }
   ],
   "source": [
    "for i in os.listdir('Imgs'):\n",
    "    if i != '.DS_Store':\n",
    "        print(i)"
   ]
  },
  {
   "cell_type": "code",
   "execution_count": 48,
   "id": "6ba14d42",
   "metadata": {},
   "outputs": [],
   "source": [
    "!touch fle.txt"
   ]
  },
  {
   "cell_type": "code",
   "execution_count": 50,
   "id": "08f70797",
   "metadata": {},
   "outputs": [
    {
     "name": "stdout",
     "output_type": "stream",
     "text": [
      "\u001b[34mImgs\u001b[m\u001b[m                                fle.txt\r\n",
      "OS Library - List Directories.ipynb\r\n"
     ]
    }
   ],
   "source": [
    "!ls"
   ]
  },
  {
   "cell_type": "code",
   "execution_count": 51,
   "id": "6d6ad931",
   "metadata": {},
   "outputs": [],
   "source": [
    "os.rename('fle.txt','File.txt')"
   ]
  },
  {
   "cell_type": "code",
   "execution_count": 52,
   "id": "c8b77f1a",
   "metadata": {},
   "outputs": [],
   "source": [
    "os.remove('File.txt')"
   ]
  },
  {
   "cell_type": "code",
   "execution_count": 59,
   "id": "8113e9c4",
   "metadata": {},
   "outputs": [],
   "source": [
    "if os.path.exists(\"Imgs/G\"):\n",
    "    print(\"Folder Already Exists!\")\n",
    "else:\n",
    "    os.mkdir('Imgs/G')"
   ]
  },
  {
   "cell_type": "code",
   "execution_count": 60,
   "id": "eac4ded9",
   "metadata": {},
   "outputs": [
    {
     "data": {
      "text/plain": [
       "352"
      ]
     },
     "execution_count": 60,
     "metadata": {},
     "output_type": "execute_result"
    }
   ],
   "source": [
    "os.path.getsize('Imgs')"
   ]
  },
  {
   "cell_type": "code",
   "execution_count": null,
   "id": "f1f27dbd",
   "metadata": {},
   "outputs": [],
   "source": []
  }
 ],
 "metadata": {
  "kernelspec": {
   "display_name": "Python 3",
   "language": "python",
   "name": "python3"
  },
  "language_info": {
   "codemirror_mode": {
    "name": "ipython",
    "version": 3
   },
   "file_extension": ".py",
   "mimetype": "text/x-python",
   "name": "python",
   "nbconvert_exporter": "python",
   "pygments_lexer": "ipython3",
   "version": "3.8.8"
  }
 },
 "nbformat": 4,
 "nbformat_minor": 5
}
