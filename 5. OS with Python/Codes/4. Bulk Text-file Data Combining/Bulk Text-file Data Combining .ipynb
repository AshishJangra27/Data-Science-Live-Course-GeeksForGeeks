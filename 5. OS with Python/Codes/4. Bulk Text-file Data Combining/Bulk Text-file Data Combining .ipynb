{
 "cells": [
  {
   "cell_type": "code",
   "execution_count": 1,
   "id": "8e3a1d6c",
   "metadata": {},
   "outputs": [],
   "source": [
    "import os"
   ]
  },
  {
   "cell_type": "code",
   "execution_count": 2,
   "id": "a794b77e",
   "metadata": {},
   "outputs": [],
   "source": [
    "files = os.listdir('Files')"
   ]
  },
  {
   "cell_type": "code",
   "execution_count": 10,
   "id": "04659ce8",
   "metadata": {},
   "outputs": [],
   "source": [
    "fd_write = open('Data.txt','a')\n",
    "\n",
    "for i in files:\n",
    "    if i != '.DS_Store':\n",
    "        \n",
    "        fd_read = open('Files/'+i,'r')\n",
    "             \n",
    "        fd_write.write(fd_read.read())\n",
    "        \n",
    "        fd_read.close()\n",
    "        \n",
    "fd_write.close()"
   ]
  },
  {
   "cell_type": "code",
   "execution_count": 11,
   "id": "4d394034",
   "metadata": {},
   "outputs": [],
   "source": [
    "txt = ''\n",
    "\n",
    "for i in files:\n",
    "    if i != '.DS_Store':\n",
    "        \n",
    "        fd_read = open('Files/'+i,'r')\n",
    "        txt += fd_read.read()\n",
    "        fd_read.close()"
   ]
  },
  {
   "cell_type": "code",
   "execution_count": 14,
   "id": "e4b350ea",
   "metadata": {},
   "outputs": [
    {
     "data": {
      "text/plain": [
       "str"
      ]
     },
     "execution_count": 14,
     "metadata": {},
     "output_type": "execute_result"
    }
   ],
   "source": [
    "type(txt)"
   ]
  },
  {
   "cell_type": "code",
   "execution_count": 15,
   "id": "18f745c9",
   "metadata": {},
   "outputs": [],
   "source": [
    "fd_write = open('Data1.txt','a')\n",
    "\n",
    "fd_write.write(txt)\n",
    "\n",
    "fd_write.close()"
   ]
  },
  {
   "cell_type": "code",
   "execution_count": null,
   "id": "69014a0e",
   "metadata": {},
   "outputs": [],
   "source": []
  }
 ],
 "metadata": {
  "kernelspec": {
   "display_name": "Python 3",
   "language": "python",
   "name": "python3"
  },
  "language_info": {
   "codemirror_mode": {
    "name": "ipython",
    "version": 3
   },
   "file_extension": ".py",
   "mimetype": "text/x-python",
   "name": "python",
   "nbconvert_exporter": "python",
   "pygments_lexer": "ipython3",
   "version": "3.8.8"
  }
 },
 "nbformat": 4,
 "nbformat_minor": 5
}
